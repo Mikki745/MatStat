{
 "cells": [
  {
   "cell_type": "code",
   "execution_count": 34,
   "metadata": {},
   "outputs": [],
   "source": [
    "from numpy import mean, array, std, cov, corrcoef"
   ]
  },
  {
   "cell_type": "markdown",
   "metadata": {},
   "source": [
    "1. Даны значения величины заработной платы заемщиков банка (zp) и значения их поведенческого кредитного скоринга (ks):\n",
    "zp = [35, 45, 190, 200, 40, 70, 54, 150, 120, 110],\n",
    "ks = [401, 574, 874, 919, 459, 739, 653, 902, 746, 832].\n",
    "Найдите ковариацию этих двух величин с помощью элементарных действий, а затем с помощью функции cov из numpy\n",
    "Полученные значения должны быть равны.\n",
    "Найдите коэффициент корреляции Пирсона с помощью ковариации и среднеквадратичных отклонений двух признаков,\n",
    "а затем с использованием функций из библиотек numpy и pandas."
   ]
  },
  {
   "cell_type": "code",
   "execution_count": 36,
   "metadata": {},
   "outputs": [
    {
     "name": "stdout",
     "output_type": "stream",
     "text": [
      "расчетная ковариация 9157.839999999997, c помощью numpy 9157.84\n",
      "расчетный коэффициент корреляции Пирсона 0.8874900920739158, c помощью numpy 0.8874900920739159\n"
     ]
    }
   ],
   "source": [
    "zp = array([35, 45, 190, 200, 40, 70, 54, 150, 120, 110])\n",
    "ks = ([401, 574, 874, 919, 459, 739, 653, 902, 746, 832])\n",
    "cow_my = mean(zp * ks) - mean(zp) * mean(ks)\n",
    "r_my = cow_my / (std(zp) * std(ks))\n",
    "cow = cov(zp,ks, ddof= 0)\n",
    "r = corrcoef(zp, ks)\n",
    "print(f\"расчетная ковариация {cow_my}, c помощью numpy {cow[0][1]}\")\n",
    "print(f\"расчетный коэффициент корреляции Пирсона {r_my}, c помощью numpy {r[0][1]}\")"
   ]
  },
  {
   "cell_type": "markdown",
   "metadata": {},
   "source": [
    "2. Измерены значения IQ выборки студентов,\n",
    "обучающихся в местных технических вузах:\n",
    "131, 125, 115, 122, 131, 115, 107, 99, 125, 111.\n",
    "Известно, что в генеральной совокупности IQ распределен нормально.\n",
    "Найдите доверительный интервал для математического ожидания с надежностью 0.95."
   ]
  },
  {
   "cell_type": "code",
   "execution_count": 37,
   "metadata": {},
   "outputs": [
    {
     "name": "stdout",
     "output_type": "stream",
     "text": [
      "[110.55660776308164, 125.64339223691834]\n"
     ]
    }
   ],
   "source": [
    "IQ = [131, 125, 115, 122, 131, 115, 107, 99, 125, 111]\n",
    "t = 2.262\n",
    "X = mean(IQ)\n",
    "sigm = std(IQ, ddof = 1)\n",
    "n = 10\n",
    "T_1 = X - t * (sigm / n ** 0.5)\n",
    "T_2 = X + t * (sigm / n ** 0.5)\n",
    "print(f'[{T_1}, {T_2}]')"
   ]
  },
  {
   "cell_type": "markdown",
   "metadata": {},
   "source": [
    "3. Известно, что рост футболистов в сборной распределен нормально\n",
    "с дисперсией генеральной совокупности, равной 25 кв.см. Объем выборки равен 27,\n",
    "среднее выборочное составляет 174.2. Найдите доверительный интервал для математического ожидания с надежностью 0.95."
   ]
  },
  {
   "cell_type": "code",
   "execution_count": 38,
   "metadata": {},
   "outputs": [
    {
     "name": "stdout",
     "output_type": "stream",
     "text": [
      "[172.31398912064722, 176.08601087935276]\n"
     ]
    }
   ],
   "source": [
    "z = -1.96\n",
    "X = 174.2\n",
    "sigm = 5\n",
    "n = 27\n",
    "T_1 = X - z * (sigm / n ** 0.5)\n",
    "T_2 = X + z * (sigm / n ** 0.5)\n",
    "print(f'[{T_2}, {T_1}]')"
   ]
  },
  {
   "cell_type": "code",
   "execution_count": null,
   "metadata": {},
   "outputs": [],
   "source": []
  }
 ],
 "metadata": {
  "kernelspec": {
   "display_name": "Python 3",
   "language": "python",
   "name": "python3"
  },
  "language_info": {
   "codemirror_mode": {
    "name": "ipython",
    "version": 3
   },
   "file_extension": ".py",
   "mimetype": "text/x-python",
   "name": "python",
   "nbconvert_exporter": "python",
   "pygments_lexer": "ipython3",
   "version": "3.8.5"
  }
 },
 "nbformat": 4,
 "nbformat_minor": 4
}
