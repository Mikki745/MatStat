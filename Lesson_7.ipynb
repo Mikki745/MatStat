{
 "cells": [
  {
   "cell_type": "code",
   "execution_count": 20,
   "metadata": {},
   "outputs": [],
   "source": [
    "from numpy import mean, array, dot, linalg"
   ]
  },
  {
   "cell_type": "markdown",
   "metadata": {},
   "source": [
    "1. Даны значения величины заработной платы заемщиков банка (zp) и значения их поведенческого кредитного скоринга (ks): zp = [35, 45, 190, 200, 40, 70, 54, 150, 120, 110], ks = [401, 574, 874, 919, 459, 739, 653, 902, 746, 832]. Используя математические операции, посчитать коэффициенты линейной регрессии, приняв за X заработную плату (то есть, zp - признак), а за y - значения скорингового балла (то есть, ks - целевая переменная). Произвести расчет как с использованием intercept, так и без."
   ]
  },
  {
   "cell_type": "code",
   "execution_count": 5,
   "metadata": {},
   "outputs": [
    {
     "name": "stdout",
     "output_type": "stream",
     "text": [
      "y_hat = 444.1774 + 2.6205 * X\n"
     ]
    }
   ],
   "source": [
    "zp = array([35, 45, 190, 200, 40, 70, 54, 150, 120, 110])\n",
    "ks = array([401, 574, 874, 919, 459, 739, 653, 902, 746, 832])\n",
    "X = zp\n",
    "y = ks\n",
    "n = 10\n",
    "# с интерсетом\n",
    "b = (mean(X * y) - mean(X) * mean(y)) / (mean(X**2) - mean(X) ** 2)\n",
    "a = mean(y) - b * mean(X)\n",
    "print(f\"y_hat = {round(a,4)} + {round(b,4)} * X\")"
   ]
  },
  {
   "cell_type": "code",
   "execution_count": 13,
   "metadata": {},
   "outputs": [
    {
     "name": "stdout",
     "output_type": "stream",
     "text": [
      "y_hat = 5.8898 * X\n"
     ]
    }
   ],
   "source": [
    "# без интерсета\n",
    "X = X.reshape(10,1)\n",
    "y = y.reshape(10,1)\n",
    "B = dot(linalg.inv(dot(X.T, X)), X.T@y)\n",
    "print(f\"y_hat = {round(B[0][0], 4)} * X\")"
   ]
  },
  {
   "cell_type": "markdown",
   "metadata": {},
   "source": [
    "2. Посчитать коэффициент линейной регрессии при заработной плате (zp), используя градиентный спуск (без intercept)."
   ]
  },
  {
   "cell_type": "code",
   "execution_count": 29,
   "metadata": {},
   "outputs": [
    {
     "name": "stdout",
     "output_type": "stream",
     "text": [
      "5.9969642 56675.010884630334\n",
      "5.916321254067367 56526.53364198457\n",
      "5.896375109542594 56517.45031291789\n",
      "5.891441650368923 56516.89462596234\n",
      "5.890221413576391 56516.86063093804\n",
      "5.889919601444694 56516.858551238896\n",
      "5.889844951537892 56516.85842401003\n",
      "5.889826487705592 56516.8584162266\n",
      "5.889821920880022 56516.85841575042\n",
      "5.889820791326014 56516.8584157213\n",
      "y_hat = 5.8898 * X\n"
     ]
    }
   ],
   "source": [
    "zp = array([35, 45, 190, 200, 40, 70, 54, 150, 120, 110])\n",
    "ks = array([401, 574, 874, 919, 459, 739, 653, 902, 746, 832])\n",
    "X = zp\n",
    "y = ks\n",
    "n = 10\n",
    "def _mse(B1, y = y, X = X, n = 10):\n",
    "    return sum((B1 * X - y) ** 2) / n\n",
    "alfa = 1e-6\n",
    "B1 = 6\n",
    "for i in range(500):\n",
    "    B1 -= alfa * (2 / n) * sum((B1 * X -y) * X)\n",
    "    if i % 50 == 0 :\n",
    "        print(B1, _mse(B1))\n",
    "print(f\"y_hat = {round(B1, 4)} * X\")"
   ]
  },
  {
   "cell_type": "markdown",
   "metadata": {},
   "source": [
    "3. В каких случаях для вычисления доверительных интервалов и проверки статистических гипотез используется таблица значений функции Лапласа, а в каких - таблица критических точек распределения Стьюдента?"
   ]
  },
  {
   "cell_type": "code",
   "execution_count": 30,
   "metadata": {},
   "outputs": [],
   "source": [
    "# Таблица критических точек распределения Стьюдента применяется при небольшем объме выборке. При 30 < n < 100\n",
    "# значения таблиц различаются незначительно, при n > 100 значения те же."
   ]
  },
  {
   "cell_type": "markdown",
   "metadata": {},
   "source": [
    "4. Произвести вычисления как в пункте 2, но с вычислением intercept. Учесть, что изменение коэффициентов должно производиться\n",
    "на каждом шаге одновременно (то есть изменение одного коэффициента не должно влиять на изменение другого во время одной итерации)."
   ]
  },
  {
   "cell_type": "code",
   "execution_count": 64,
   "metadata": {},
   "outputs": [
    {
     "name": "stdout",
     "output_type": "stream",
     "text": [
      "449.1375982136 2.9883638\n",
      "443.5638711517049 2.625643395957857\n",
      "444.1519657295521 2.6207501532441597\n",
      "444.17630639099593 2.6205476266969963\n",
      "444.177313827252 2.6205392443205815\n",
      "444.1773555240568 2.6205388973821906\n",
      "444.17735724984675 2.62053888302275\n",
      "444.17735732127574 2.6205388824284253\n",
      "444.17735732423114 2.6205388824038325\n",
      "444.17735732435096 2.620538882402837\n",
      "y_hat = 444.1774 + 2.6205 * X\n"
     ]
    }
   ],
   "source": [
    "zp = array([35, 45, 190, 200, 40, 70, 54, 150, 120, 110])\n",
    "ks = array([401, 574, 874, 919, 459, 739, 653, 902, 746, 832])\n",
    "X = zp\n",
    "y = ks\n",
    "n = 10\n",
    "def _mse(B1, y = y, X = X, n = 10):\n",
    "    return sum((B1 * X - y) ** 2) / n\n",
    "alfa = 1e-6\n",
    "beta = 0.01\n",
    "a = 450\n",
    "b = 3\n",
    "for i in range(10000):\n",
    "    b -= alfa * (2 / n) * sum((a + b * X - y) * X)\n",
    "    a -= beta * (2 / n) * sum(a + b * X - y) \n",
    "    if i % 1000 == 0 :\n",
    "        print(a, b)\n",
    "print(f\"y_hat = {round(a,4)} + {round(b,4)} * X\")"
   ]
  },
  {
   "cell_type": "code",
   "execution_count": 57,
   "metadata": {},
   "outputs": [
    {
     "data": {
      "text/plain": [
       "1e-06"
      ]
     },
     "execution_count": 57,
     "metadata": {},
     "output_type": "execute_result"
    }
   ],
   "source": []
  },
  {
   "cell_type": "code",
   "execution_count": null,
   "metadata": {},
   "outputs": [],
   "source": []
  }
 ],
 "metadata": {
  "kernelspec": {
   "display_name": "Python 3",
   "language": "python",
   "name": "python3"
  },
  "language_info": {
   "codemirror_mode": {
    "name": "ipython",
    "version": 3
   },
   "file_extension": ".py",
   "mimetype": "text/x-python",
   "name": "python",
   "nbconvert_exporter": "python",
   "pygments_lexer": "ipython3",
   "version": "3.8.5"
  }
 },
 "nbformat": 4,
 "nbformat_minor": 4
}
